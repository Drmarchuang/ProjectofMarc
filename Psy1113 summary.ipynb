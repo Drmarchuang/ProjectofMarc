{
 "cells": [
  {
   "cell_type": "code",
   "execution_count": 1,
   "metadata": {},
   "outputs": [],
   "source": [
    "import numpy as np\n",
    "import pandas as pd"
   ]
  },
  {
   "cell_type": "code",
   "execution_count": 2,
   "metadata": {},
   "outputs": [
    {
     "data": {
      "text/html": [
       "<div>\n",
       "<style scoped>\n",
       "    .dataframe tbody tr th:only-of-type {\n",
       "        vertical-align: middle;\n",
       "    }\n",
       "\n",
       "    .dataframe tbody tr th {\n",
       "        vertical-align: top;\n",
       "    }\n",
       "\n",
       "    .dataframe thead th {\n",
       "        text-align: right;\n",
       "    }\n",
       "</style>\n",
       "<table border=\"1\" class=\"dataframe\">\n",
       "  <thead>\n",
       "    <tr style=\"text-align: right;\">\n",
       "      <th></th>\n",
       "      <th>Student</th>\n",
       "      <th>Team</th>\n",
       "      <th>Getting Started Quiz (1009982)</th>\n",
       "      <th>Chapter 1. What Is Psychology? (1009991)</th>\n",
       "      <th>Chapter 1 Interactive (1009986)</th>\n",
       "      <th>Chapter 2. Psychology?s Scientific Method (1009975)</th>\n",
       "      <th>Chapter 2 Interactive Homework (1009981)</th>\n",
       "      <th>Chapter 3. Biological Foundations of Behavior (1009978)</th>\n",
       "      <th>Chapter 3 Interactive (1009983)</th>\n",
       "      <th>Chapter 4. Sensation and Perception (1009973)</th>\n",
       "      <th>Chapter 4 Interactive (1009972)</th>\n",
       "      <th>TH-Attendance (1075807)</th>\n",
       "      <th>TH-Exam 1 (1076967)</th>\n",
       "    </tr>\n",
       "  </thead>\n",
       "  <tbody>\n",
       "    <tr>\n",
       "      <th>1</th>\n",
       "      <td>Shaheer Aamir</td>\n",
       "      <td>Ainsworth</td>\n",
       "      <td>5.54</td>\n",
       "      <td>7.0</td>\n",
       "      <td>6.0</td>\n",
       "      <td>7.0</td>\n",
       "      <td>6.00</td>\n",
       "      <td>7.0</td>\n",
       "      <td>5.94</td>\n",
       "      <td>7.0</td>\n",
       "      <td>6.00</td>\n",
       "      <td>7.0</td>\n",
       "      <td>47.0</td>\n",
       "    </tr>\n",
       "    <tr>\n",
       "      <th>2</th>\n",
       "      <td>Paige Abbott</td>\n",
       "      <td>Kohlberg</td>\n",
       "      <td>4.60</td>\n",
       "      <td>7.0</td>\n",
       "      <td>0.0</td>\n",
       "      <td>7.0</td>\n",
       "      <td>0.00</td>\n",
       "      <td>0.0</td>\n",
       "      <td>0.00</td>\n",
       "      <td>7.0</td>\n",
       "      <td>5.58</td>\n",
       "      <td>6.0</td>\n",
       "      <td>28.0</td>\n",
       "    </tr>\n",
       "    <tr>\n",
       "      <th>3</th>\n",
       "      <td>Ghainaa Abousleiman</td>\n",
       "      <td>Piaget</td>\n",
       "      <td>6.00</td>\n",
       "      <td>7.0</td>\n",
       "      <td>5.6</td>\n",
       "      <td>7.0</td>\n",
       "      <td>6.00</td>\n",
       "      <td>7.0</td>\n",
       "      <td>5.04</td>\n",
       "      <td>7.0</td>\n",
       "      <td>6.00</td>\n",
       "      <td>7.0</td>\n",
       "      <td>43.0</td>\n",
       "    </tr>\n",
       "    <tr>\n",
       "      <th>4</th>\n",
       "      <td>Hunter Abrahamsen</td>\n",
       "      <td>Vygotsky</td>\n",
       "      <td>6.00</td>\n",
       "      <td>7.0</td>\n",
       "      <td>5.6</td>\n",
       "      <td>7.0</td>\n",
       "      <td>2.86</td>\n",
       "      <td>7.0</td>\n",
       "      <td>5.75</td>\n",
       "      <td>7.0</td>\n",
       "      <td>5.16</td>\n",
       "      <td>7.0</td>\n",
       "      <td>43.0</td>\n",
       "    </tr>\n",
       "    <tr>\n",
       "      <th>5</th>\n",
       "      <td>Christabel Yohanna Afari Acquah</td>\n",
       "      <td>Kohlberg</td>\n",
       "      <td>4.16</td>\n",
       "      <td>7.0</td>\n",
       "      <td>5.6</td>\n",
       "      <td>7.0</td>\n",
       "      <td>4.68</td>\n",
       "      <td>7.0</td>\n",
       "      <td>6.00</td>\n",
       "      <td>7.0</td>\n",
       "      <td>6.00</td>\n",
       "      <td>6.0</td>\n",
       "      <td>45.0</td>\n",
       "    </tr>\n",
       "  </tbody>\n",
       "</table>\n",
       "</div>"
      ],
      "text/plain": [
       "                           Student       Team  Getting Started Quiz (1009982)  \\\n",
       "1                    Shaheer Aamir  Ainsworth                            5.54   \n",
       "2                     Paige Abbott   Kohlberg                            4.60   \n",
       "3              Ghainaa Abousleiman     Piaget                            6.00   \n",
       "4                Hunter Abrahamsen   Vygotsky                            6.00   \n",
       "5  Christabel Yohanna Afari Acquah   Kohlberg                            4.16   \n",
       "\n",
       "   Chapter 1. What Is Psychology? (1009991)  Chapter 1 Interactive (1009986)  \\\n",
       "1                                       7.0                              6.0   \n",
       "2                                       7.0                              0.0   \n",
       "3                                       7.0                              5.6   \n",
       "4                                       7.0                              5.6   \n",
       "5                                       7.0                              5.6   \n",
       "\n",
       "   Chapter 2. Psychology?s Scientific Method (1009975)  \\\n",
       "1                                                7.0       \n",
       "2                                                7.0       \n",
       "3                                                7.0       \n",
       "4                                                7.0       \n",
       "5                                                7.0       \n",
       "\n",
       "   Chapter 2 Interactive Homework (1009981)  \\\n",
       "1                                      6.00   \n",
       "2                                      0.00   \n",
       "3                                      6.00   \n",
       "4                                      2.86   \n",
       "5                                      4.68   \n",
       "\n",
       "   Chapter 3. Biological Foundations of Behavior (1009978)  \\\n",
       "1                                                7.0         \n",
       "2                                                0.0         \n",
       "3                                                7.0         \n",
       "4                                                7.0         \n",
       "5                                                7.0         \n",
       "\n",
       "   Chapter 3 Interactive (1009983)  \\\n",
       "1                             5.94   \n",
       "2                             0.00   \n",
       "3                             5.04   \n",
       "4                             5.75   \n",
       "5                             6.00   \n",
       "\n",
       "   Chapter 4. Sensation and Perception (1009973)  \\\n",
       "1                                            7.0   \n",
       "2                                            7.0   \n",
       "3                                            7.0   \n",
       "4                                            7.0   \n",
       "5                                            7.0   \n",
       "\n",
       "   Chapter 4 Interactive (1009972)  TH-Attendance (1075807)  \\\n",
       "1                             6.00                      7.0   \n",
       "2                             5.58                      6.0   \n",
       "3                             6.00                      7.0   \n",
       "4                             5.16                      7.0   \n",
       "5                             6.00                      6.0   \n",
       "\n",
       "   TH-Exam 1 (1076967)  \n",
       "1                 47.0  \n",
       "2                 28.0  \n",
       "3                 43.0  \n",
       "4                 43.0  \n",
       "5                 45.0  "
      ]
     },
     "execution_count": 2,
     "metadata": {},
     "output_type": "execute_result"
    }
   ],
   "source": [
    "sec1 = pd.read_csv('C:/Users/ITSCDL/Desktop/001.csv', encoding = 'unicode_escape')\n",
    "sec1 = sec1.iloc[1:-1,:]\n",
    "sec1.head()"
   ]
  },
  {
   "cell_type": "code",
   "execution_count": 3,
   "metadata": {},
   "outputs": [],
   "source": [
    "sec1.columns = ['Student','Team','Quiz','H1','H2','H3','H4',\n",
    "                'H5','H6','H7','H8','Attendence','Ex1']"
   ]
  },
  {
   "cell_type": "code",
   "execution_count": 4,
   "metadata": {},
   "outputs": [
    {
     "data": {
      "text/plain": [
       "array(['Ainsworth', 'Kohlberg', 'Piaget', 'Vygotsky', 'Gazzaniga',\n",
       "       'Loftus', 'Milgram', 'Bandura'], dtype=object)"
      ]
     },
     "execution_count": 4,
     "metadata": {},
     "output_type": "execute_result"
    }
   ],
   "source": [
    "sec1.Team.unique()"
   ]
  },
  {
   "cell_type": "code",
   "execution_count": 5,
   "metadata": {},
   "outputs": [],
   "source": [
    "class TeamReport:\n",
    "    def __init__(self,df,team):\n",
    "        self.df = df\n",
    "        self.team = team\n",
    "        self.data = df[df.Team == team]\n",
    "        \n",
    "    def get_attend(self):\n",
    "        return self.data['Attendence'].sum()\n",
    "    \n",
    "    def get_exam(self):\n",
    "        return self.data['Ex1'].sum()\n",
    "    \n",
    "    def get_homework(self):\n",
    "        return (self.data.iloc[:,2:11] != 0).sum().sum()"
   ]
  },
  {
   "cell_type": "code",
   "execution_count": 6,
   "metadata": {},
   "outputs": [],
   "source": [
    "def get_result(df):\n",
    "    tm = df.Team.unique()\n",
    "    Attend = []\n",
    "    Exam = []\n",
    "    Home = []\n",
    "    for i in tm:\n",
    "        TM = TeamReport(df,i)\n",
    "        A = TM.get_attend()\n",
    "        Attend.append(A)\n",
    "        E = TM.get_exam()\n",
    "        Exam.append(E)\n",
    "        H = TM.get_homework()\n",
    "        Home.append(H)\n",
    "        \n",
    "    data = {'Attendence':Attend,\n",
    "           'Exam1':Exam,\n",
    "           'Homework':Home}\n",
    "    new_df=pd.DataFrame(data)\n",
    "    new_df.index=tm\n",
    "    \n",
    "\n",
    "    d,e,f = new_df.max()\n",
    "    AT = tm[new_df.Attendence == d]\n",
    "    EX = tm[new_df.Exam1 == e]\n",
    "    HM = tm[new_df.Homework == f]\n",
    "    print('The best Team in attendence is', str(AT))\n",
    "    print('The best Team in exam is', str(EX))\n",
    "    print('The best Team in homework is', str(HM))\n",
    "    \n",
    "    "
   ]
  },
  {
   "cell_type": "code",
   "execution_count": 7,
   "metadata": {},
   "outputs": [
    {
     "name": "stdout",
     "output_type": "stream",
     "text": [
      "The best Team in attendence is ['Milgram']\n",
      "The best Team in exam is ['Kohlberg']\n",
      "The best Team in homework is ['Piaget']\n"
     ]
    }
   ],
   "source": [
    "get_result(sec1)"
   ]
  },
  {
   "cell_type": "code",
   "execution_count": 8,
   "metadata": {},
   "outputs": [
    {
     "name": "stdout",
     "output_type": "stream",
     "text": [
      "The best Team in attendence is ['Maslow']\n",
      "The best Team in exam is ['Erikson']\n",
      "The best Team in homework is ['Erikson']\n"
     ]
    }
   ],
   "source": [
    "sec2 = pd.read_csv('C:/Users/ITSCDL/Desktop/002.csv', encoding = 'unicode_escape')\n",
    "sec2 = sec2.iloc[1:-1,:]\n",
    "sec2.columns = ['Student','Team','Quiz','H1','H2','H3','H4',\n",
    "                'H5','H6','H7','H8','Attendence','Ex1']\n",
    "get_result(sec2)"
   ]
  }
 ],
 "metadata": {
  "language_info": {
   "codemirror_mode": {
    "name": "ipython",
    "version": 3
   },
   "file_extension": ".py",
   "mimetype": "text/x-python",
   "name": "python",
   "nbconvert_exporter": "python",
   "pygments_lexer": "ipython3",
   "version": "3.7.3"
  }
 },
 "nbformat": 4,
 "nbformat_minor": 2
}
