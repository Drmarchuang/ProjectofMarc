{
 "cells": [
  {
   "cell_type": "code",
   "execution_count": 1,
   "metadata": {},
   "outputs": [],
   "source": [
    "import numpy as np\n",
    "import pandas as pd\n",
    "import matplotlib.pyplot as plt\n",
    "from sklearn.tree import DecisionTreeRegressor\n",
    "from sklearn.preprocessing import StandardScaler\n",
    "from sklearn.metrics import mean_squared_error"
   ]
  },
  {
   "cell_type": "code",
   "execution_count": 2,
   "metadata": {},
   "outputs": [
    {
     "name": "stdout",
     "output_type": "stream",
     "text": [
      "<class 'pandas.core.frame.DataFrame'>\n",
      "RangeIndex: 1000 entries, 0 to 999\n",
      "Data columns (total 8 columns):\n",
      "gender                         1000 non-null object\n",
      "race/ethnicity                 1000 non-null object\n",
      "parental level of education    1000 non-null object\n",
      "lunch                          1000 non-null object\n",
      "test preparation course        1000 non-null object\n",
      "math score                     1000 non-null int64\n",
      "reading score                  1000 non-null int64\n",
      "writing score                  1000 non-null int64\n",
      "dtypes: int64(3), object(5)\n",
      "memory usage: 62.6+ KB\n"
     ]
    }
   ],
   "source": [
    "StudentPerformance = pd.read_csv('StudentsPerformance.csv')\n",
    "StudentPerformance.info()"
   ]
  },
  {
   "cell_type": "code",
   "execution_count": 3,
   "metadata": {},
   "outputs": [
    {
     "data": {
      "text/html": [
       "<div>\n",
       "<style scoped>\n",
       "    .dataframe tbody tr th:only-of-type {\n",
       "        vertical-align: middle;\n",
       "    }\n",
       "\n",
       "    .dataframe tbody tr th {\n",
       "        vertical-align: top;\n",
       "    }\n",
       "\n",
       "    .dataframe thead th {\n",
       "        text-align: right;\n",
       "    }\n",
       "</style>\n",
       "<table border=\"1\" class=\"dataframe\">\n",
       "  <thead>\n",
       "    <tr style=\"text-align: right;\">\n",
       "      <th></th>\n",
       "      <th>gender</th>\n",
       "      <th>race/ethnicity</th>\n",
       "      <th>parental level of education</th>\n",
       "      <th>lunch</th>\n",
       "      <th>test preparation course</th>\n",
       "      <th>math score</th>\n",
       "      <th>reading score</th>\n",
       "      <th>writing score</th>\n",
       "    </tr>\n",
       "  </thead>\n",
       "  <tbody>\n",
       "    <tr>\n",
       "      <th>0</th>\n",
       "      <td>female</td>\n",
       "      <td>group B</td>\n",
       "      <td>bachelor's degree</td>\n",
       "      <td>standard</td>\n",
       "      <td>none</td>\n",
       "      <td>72</td>\n",
       "      <td>72</td>\n",
       "      <td>74</td>\n",
       "    </tr>\n",
       "    <tr>\n",
       "      <th>1</th>\n",
       "      <td>female</td>\n",
       "      <td>group C</td>\n",
       "      <td>some college</td>\n",
       "      <td>standard</td>\n",
       "      <td>completed</td>\n",
       "      <td>69</td>\n",
       "      <td>90</td>\n",
       "      <td>88</td>\n",
       "    </tr>\n",
       "    <tr>\n",
       "      <th>2</th>\n",
       "      <td>female</td>\n",
       "      <td>group B</td>\n",
       "      <td>master's degree</td>\n",
       "      <td>standard</td>\n",
       "      <td>none</td>\n",
       "      <td>90</td>\n",
       "      <td>95</td>\n",
       "      <td>93</td>\n",
       "    </tr>\n",
       "    <tr>\n",
       "      <th>3</th>\n",
       "      <td>male</td>\n",
       "      <td>group A</td>\n",
       "      <td>associate's degree</td>\n",
       "      <td>free/reduced</td>\n",
       "      <td>none</td>\n",
       "      <td>47</td>\n",
       "      <td>57</td>\n",
       "      <td>44</td>\n",
       "    </tr>\n",
       "    <tr>\n",
       "      <th>4</th>\n",
       "      <td>male</td>\n",
       "      <td>group C</td>\n",
       "      <td>some college</td>\n",
       "      <td>standard</td>\n",
       "      <td>none</td>\n",
       "      <td>76</td>\n",
       "      <td>78</td>\n",
       "      <td>75</td>\n",
       "    </tr>\n",
       "  </tbody>\n",
       "</table>\n",
       "</div>"
      ],
      "text/plain": [
       "   gender race/ethnicity parental level of education         lunch  \\\n",
       "0  female        group B           bachelor's degree      standard   \n",
       "1  female        group C                some college      standard   \n",
       "2  female        group B             master's degree      standard   \n",
       "3    male        group A          associate's degree  free/reduced   \n",
       "4    male        group C                some college      standard   \n",
       "\n",
       "  test preparation course  math score  reading score  writing score  \n",
       "0                    none          72             72             74  \n",
       "1               completed          69             90             88  \n",
       "2                    none          90             95             93  \n",
       "3                    none          47             57             44  \n",
       "4                    none          76             78             75  "
      ]
     },
     "execution_count": 3,
     "metadata": {},
     "output_type": "execute_result"
    }
   ],
   "source": [
    "StudentPerformance.head()"
   ]
  },
  {
   "cell_type": "code",
   "execution_count": 4,
   "metadata": {},
   "outputs": [
    {
     "data": {
      "text/plain": [
       "array([[<matplotlib.axes._subplots.AxesSubplot object at 0x000001EA7C574EB8>,\n",
       "        <matplotlib.axes._subplots.AxesSubplot object at 0x000001EA7C648470>],\n",
       "       [<matplotlib.axes._subplots.AxesSubplot object at 0x000001EA7C674B00>,\n",
       "        <matplotlib.axes._subplots.AxesSubplot object at 0x000001EA7C8C51D0>]],\n",
       "      dtype=object)"
      ]
     },
     "execution_count": 4,
     "metadata": {},
     "output_type": "execute_result"
    },
    {
     "data": {
      "image/png": "[encoded data removed]",
      "text/plain": [
       "<Figure size 432x288 with 4 Axes>"
      ]
     },
     "metadata": {},
     "output_type": "display_data"
    }
   ],
   "source": [
    "StudentPerformance.hist()"
   ]
  },
  {
   "cell_type": "code",
   "execution_count": 5,
   "metadata": {},
   "outputs": [],
   "source": [
    "# generate a columns of sum of all scores\n",
    "StudentPerformance['Totals']= StudentPerformance['math score'] + StudentPerformance['reading score']+ StudentPerformance['writing score']"
   ]
  },
  {
   "cell_type": "code",
   "execution_count": 6,
   "metadata": {},
   "outputs": [],
   "source": [
    "# create a function to extract mean and std\n",
    "def get_mean_std(x,y):\n",
    "    from numpy import std\n",
    "    mean_score = StudentPerformance.groupby(x)[y].mean()\n",
    "    std_score = StudentPerformance.groupby(x)[y].std()\n",
    "    return mean_score, std_score"
   ]
  },
  {
   "cell_type": "code",
   "execution_count": 7,
   "metadata": {},
   "outputs": [],
   "source": [
    "## compare the performance for each catogory and get std\n",
    "## raw data\n",
    "gender_com,gender_std = get_mean_std('gender', 'Totals')\n",
    "race_com,race_std= get_mean_std('race/ethnicity', 'Totals')\n",
    "patedu_com,patedu_std= get_mean_std('parental level of education', 'Totals')\n",
    "lunch_com,lunch_std = get_mean_std('lunch', 'Totals')\n",
    "pre_com,pre_std = get_mean_std('test preparation course', 'Totals')"
   ]
  },
  {
   "cell_type": "code",
   "execution_count": 8,
   "metadata": {},
   "outputs": [
    {
     "data": {
      "text/plain": [
       "Text(0.5,1,'Total Mean Socre by Genders')"
      ]
     },
     "execution_count": 8,
     "metadata": {},
     "output_type": "execute_result"
    },
    {
     "data": {
      "image/png": "[encoded data removed]",
      "text/plain": [
       "<Figure size 432x288 with 1 Axes>"
      ]
     },
     "metadata": {},
     "output_type": "display_data"
    }
   ],
   "source": [
    "gender_com.sort_values(ascending=True, inplace=True)\n",
    "gender_com.plot(kind='barh',color=['r','b'],width=0.85,alpha=0.8,xerr=gender_std)\n",
    "\n",
    "plt.ylabel('Genders')\n",
    "plt.xlabel('Total Mean Scores')\n",
    "plt.title('Total Mean Socre by Genders')\n"
   ]
  },
  {
   "cell_type": "code",
   "execution_count": 9,
   "metadata": {},
   "outputs": [
    {
     "data": {
      "text/plain": [
       "Text(0.5,0,'Total Mean Score')"
      ]
     },
     "execution_count": 9,
     "metadata": {},
     "output_type": "execute_result"
    },
    {
     "data": {
      "image/png": "[encoded data removed]",
      "text/plain": [
       "<Figure size 432x288 with 1 Axes>"
      ]
     },
     "metadata": {},
     "output_type": "display_data"
    }
   ],
   "source": [
    "race_com.plot(kind='barh', alpha=0.7,xerr=race_std)\n",
    "\n",
    "plt.title('Mean Total Socre by Race')\n",
    "plt.ylabel('Race/Ethinicity Group')\n",
    "plt.xlabel('Total Mean Score')"
   ]
  },
  {
   "cell_type": "code",
   "execution_count": 10,
   "metadata": {},
   "outputs": [
    {
     "data": {
      "text/plain": [
       "Text(0.5,1,'Mean Total Score by Parent Education Level')"
      ]
     },
     "execution_count": 10,
     "metadata": {},
     "output_type": "execute_result"
    },
    {
     "data": {
      "image/png": "[encoded data removed]",
      "text/plain": [
       "<Figure size 432x288 with 1 Axes>"
      ]
     },
     "metadata": {},
     "output_type": "display_data"
    }
   ],
   "source": [
    "# sort the value and plot the barh\n",
    "patedu_com.sort_values(ascending=True, inplace=True)\n",
    "patedu_com.plot(kind='barh',xerr=patedu_std, alpha=0.7)\n",
    "\n",
    "plt.xlabel('Mean Total Score')\n",
    "plt.title('Mean Total Score by Parent Education Level')"
   ]
  },
  {
   "cell_type": "code",
   "execution_count": 11,
   "metadata": {},
   "outputs": [
    {
     "data": {
      "text/plain": [
       "Text(0.5,1,'Mean Total Score by Lunch Received')"
      ]
     },
     "execution_count": 11,
     "metadata": {},
     "output_type": "execute_result"
    },
    {
     "data": {
      "image/png": "[encoded data removed]",
      "text/plain": [
       "<Figure size 432x288 with 1 Axes>"
      ]
     },
     "metadata": {},
     "output_type": "display_data"
    }
   ],
   "source": [
    "lunch_com.plot(kind='barh', xerr=lunch_std, alpha=0.7)\n",
    "\n",
    "plt.xlabel('Mean Total Score by Lunch Received')\n",
    "plt.ylabel('Lunch Type')\n",
    "plt.title('Mean Total Score by Lunch Received')"
   ]
  },
  {
   "cell_type": "code",
   "execution_count": 12,
   "metadata": {},
   "outputs": [
    {
     "data": {
      "text/plain": [
       "Text(0.5,0,'Mean Total Score by Preparation Courses')"
      ]
     },
     "execution_count": 12,
     "metadata": {},
     "output_type": "execute_result"
    },
    {
     "data": {
      "image/png": "[encoded data removed]",
      "text/plain": [
       "<Figure size 432x288 with 1 Axes>"
      ]
     },
     "metadata": {},
     "output_type": "display_data"
    }
   ],
   "source": [
    "pre_com.plot(kind='barh', xerr=pre_std, alpha=0.7)\n",
    "\n",
    "plt.xlabel('Mean Total Score by Preparation Courses')"
   ]
  },
  {
   "cell_type": "code",
   "execution_count": 13,
   "metadata": {},
   "outputs": [],
   "source": [
    "## administrate T-Test\n",
    "def t_test(df,cat_col, val_col):\n",
    "    from statsmodels.stats.weightstats import ttest_ind\n",
    "    cat = df[cat_col].unique()  # name of categories\n",
    "    other = []  # rest of categories\n",
    "    used=[]\n",
    "    for i in cat[:-1]:\n",
    "        used.extend([i])\n",
    "        other= [x for x in cat if x not in used]\n",
    "        for j in other:\n",
    "            a = df[val_col][df[cat_col]==i].values\n",
    "            b = df[val_col][df[cat_col]==j].values\n",
    "            tval, pval, dfree = ttest_ind(a,b)\n",
    "            print(' T value: %f, P value: %f , Degree of Freedom: %f' %(tval, pval, dfree)) #\n",
    "    \n",
    "     "
   ]
  },
  {
   "cell_type": "code",
   "execution_count": 14,
   "metadata": {},
   "outputs": [
    {
     "name": "stdout",
     "output_type": "stream",
     "text": [
      " T value: 4.169914, P value: 0.000033 , Degree of Freedom: 998.000000\n"
     ]
    }
   ],
   "source": [
    "t_test(StudentPerformance,'gender','Totals')"
   ]
  },
  {
   "cell_type": "code",
   "execution_count": 15,
   "metadata": {},
   "outputs": [
    {
     "name": "stdout",
     "output_type": "stream",
     "text": [
      " T value: 2.200747, P value: 0.028422 , Degree of Freedom: 342.000000\n",
      " T value: -0.759477, P value: 0.448589 , Degree of Freedom: 175.000000\n",
      " T value: 1.501301, P value: 0.134211 , Degree of Freedom: 338.000000\n",
      " T value: 5.539324, P value: 0.000000 , Degree of Freedom: 312.000000\n",
      " T value: 3.941855, P value: 0.000101 , Degree of Freedom: 295.000000\n",
      " T value: -2.559652, P value: 0.010998 , Degree of Freedom: 283.000000\n",
      " T value: -0.844579, P value: 0.398799 , Degree of Freedom: 446.000000\n",
      " T value: 4.047081, P value: 0.000062 , Degree of Freedom: 420.000000\n",
      " T value: 2.356278, P value: 0.018937 , Degree of Freedom: 403.000000\n",
      " T value: 2.014635, P value: 0.044902 , Degree of Freedom: 279.000000\n",
      " T value: 5.226505, P value: 0.000000 , Degree of Freedom: 253.000000\n",
      " T value: 3.859155, P value: 0.000147 , Degree of Freedom: 236.000000\n",
      " T value: 4.856827, P value: 0.000002 , Degree of Freedom: 416.000000\n",
      " T value: 3.111675, P value: 0.001994 , Degree of Freedom: 399.000000\n",
      " T value: -1.366708, P value: 0.172540 , Degree of Freedom: 373.000000\n"
     ]
    }
   ],
   "source": [
    "t_test(StudentPerformance,'parental level of education','Totals')"
   ]
  },
  {
   "cell_type": "code",
   "execution_count": 16,
   "metadata": {},
   "outputs": [],
   "source": [
    "# Data Washing\n",
    "StudentPerformance.replace({'gender':{'male':int(1),'female':int(2)}}, inplace=True)\n",
    "StudentPerformance.replace({'race/ethnicity':{'group A':int(1),'group B':int(2),'group C':int(3),\n",
    "                                             'group D': int(4),'group E': int(5)}}, inplace=True)\n",
    "StudentPerformance.replace({\"parental level of education\":{'high school':int(1), 'some high school':int(2),\n",
    "                                                           'some college': int(3),\n",
    "                                                          \"associate's degree\":int(4),\n",
    "                                                          \"bachelor's degree\": int(5),\n",
    "                                                          \"master's degree\": int(6)}}, inplace=True)\n",
    "StudentPerformance.replace({'lunch':{'free/reduced':int(1),'standard':int(2)}}, inplace=True)\n",
    "StudentPerformance.replace({'test preparation course':{'none':1,'completed':2}}, inplace=True)"
   ]
  },
  {
   "cell_type": "code",
   "execution_count": 17,
   "metadata": {},
   "outputs": [
    {
     "data": {
      "text/html": [
       "<div>\n",
       "<style scoped>\n",
       "    .dataframe tbody tr th:only-of-type {\n",
       "        vertical-align: middle;\n",
       "    }\n",
       "\n",
       "    .dataframe tbody tr th {\n",
       "        vertical-align: top;\n",
       "    }\n",
       "\n",
       "    .dataframe thead th {\n",
       "        text-align: right;\n",
       "    }\n",
       "</style>\n",
       "<table border=\"1\" class=\"dataframe\">\n",
       "  <thead>\n",
       "    <tr style=\"text-align: right;\">\n",
       "      <th></th>\n",
       "      <th>gender</th>\n",
       "      <th>race/ethnicity</th>\n",
       "      <th>parental level of education</th>\n",
       "      <th>lunch</th>\n",
       "      <th>test preparation course</th>\n",
       "      <th>math score</th>\n",
       "      <th>reading score</th>\n",
       "      <th>writing score</th>\n",
       "      <th>Totals</th>\n",
       "    </tr>\n",
       "  </thead>\n",
       "  <tbody>\n",
       "    <tr>\n",
       "      <th>0</th>\n",
       "      <td>2</td>\n",
       "      <td>2</td>\n",
       "      <td>5</td>\n",
       "      <td>2</td>\n",
       "      <td>1</td>\n",
       "      <td>72</td>\n",
       "      <td>72</td>\n",
       "      <td>74</td>\n",
       "      <td>218</td>\n",
       "    </tr>\n",
       "    <tr>\n",
       "      <th>1</th>\n",
       "      <td>2</td>\n",
       "      <td>3</td>\n",
       "      <td>3</td>\n",
       "      <td>2</td>\n",
       "      <td>2</td>\n",
       "      <td>69</td>\n",
       "      <td>90</td>\n",
       "      <td>88</td>\n",
       "      <td>247</td>\n",
       "    </tr>\n",
       "    <tr>\n",
       "      <th>2</th>\n",
       "      <td>2</td>\n",
       "      <td>2</td>\n",
       "      <td>6</td>\n",
       "      <td>2</td>\n",
       "      <td>1</td>\n",
       "      <td>90</td>\n",
       "      <td>95</td>\n",
       "      <td>93</td>\n",
       "      <td>278</td>\n",
       "    </tr>\n",
       "    <tr>\n",
       "      <th>3</th>\n",
       "      <td>1</td>\n",
       "      <td>1</td>\n",
       "      <td>4</td>\n",
       "      <td>1</td>\n",
       "      <td>1</td>\n",
       "      <td>47</td>\n",
       "      <td>57</td>\n",
       "      <td>44</td>\n",
       "      <td>148</td>\n",
       "    </tr>\n",
       "    <tr>\n",
       "      <th>4</th>\n",
       "      <td>1</td>\n",
       "      <td>3</td>\n",
       "      <td>3</td>\n",
       "      <td>2</td>\n",
       "      <td>1</td>\n",
       "      <td>76</td>\n",
       "      <td>78</td>\n",
       "      <td>75</td>\n",
       "      <td>229</td>\n",
       "    </tr>\n",
       "  </tbody>\n",
       "</table>\n",
       "</div>"
      ],
      "text/plain": [
       "   gender  race/ethnicity  parental level of education  lunch  \\\n",
       "0       2               2                            5      2   \n",
       "1       2               3                            3      2   \n",
       "2       2               2                            6      2   \n",
       "3       1               1                            4      1   \n",
       "4       1               3                            3      2   \n",
       "\n",
       "   test preparation course  math score  reading score  writing score  Totals  \n",
       "0                        1          72             72             74     218  \n",
       "1                        2          69             90             88     247  \n",
       "2                        1          90             95             93     278  \n",
       "3                        1          47             57             44     148  \n",
       "4                        1          76             78             75     229  "
      ]
     },
     "execution_count": 17,
     "metadata": {},
     "output_type": "execute_result"
    }
   ],
   "source": [
    "StudentPerformance.head()"
   ]
  },
  {
   "cell_type": "code",
   "execution_count": 18,
   "metadata": {},
   "outputs": [],
   "source": [
    "X_temp=StudentPerformance[StudentPerformance.columns[:-3]].values\n",
    "y_temp=StudentPerformance['Totals'].values"
   ]
  },
  {
   "cell_type": "code",
   "execution_count": 19,
   "metadata": {},
   "outputs": [],
   "source": [
    "# obtaining training & testing data\n",
    "from sklearn.model_selection import train_test_split, GridSearchCV\n",
    "\n",
    "X_train,X_test, y_train,y_test = train_test_split(X_temp, y_temp, test_size=0.2, random_state=42)"
   ]
  },
  {
   "cell_type": "code",
   "execution_count": 20,
   "metadata": {},
   "outputs": [
    {
     "data": {
      "text/plain": [
       "GridSearchCV(cv=3, error_score='raise',\n",
       "       estimator=DecisionTreeRegressor(criterion='mse', max_depth=None, max_features=None,\n",
       "           max_leaf_nodes=None, min_impurity_decrease=0.0,\n",
       "           min_impurity_split=None, min_samples_leaf=1,\n",
       "           min_samples_split=2, min_weight_fraction_leaf=0.0,\n",
       "           presort=False, random_state=None, splitter='best'),\n",
       "       fit_params=None, iid=True, n_jobs=1,\n",
       "       param_grid=[{'criterion': ['mse', 'friedman_mse'], 'max_depth': [2, 3, 4]}],\n",
       "       pre_dispatch='2*n_jobs', refit=True, return_train_score='warn',\n",
       "       scoring='neg_mean_squared_error', verbose=0)"
      ]
     },
     "execution_count": 20,
     "metadata": {},
     "output_type": "execute_result"
    }
   ],
   "source": [
    "# training model\n",
    "dt_reg=DecisionTreeRegressor()\n",
    "\n",
    "param_grid = [{'criterion':['mse','friedman_mse'], 'max_depth':[2,3,4]}]\n",
    "\n",
    "grid_search = GridSearchCV(dt_reg, param_grid, cv=3, scoring='neg_mean_squared_error')\n",
    "\n",
    "grid_search.fit(X_train, y_train)"
   ]
  },
  {
   "cell_type": "code",
   "execution_count": 21,
   "metadata": {},
   "outputs": [
    {
     "data": {
      "text/plain": [
       "{'criterion': 'mse', 'max_depth': 4}"
      ]
     },
     "execution_count": 21,
     "metadata": {},
     "output_type": "execute_result"
    }
   ],
   "source": [
    "grid_search.best_params_"
   ]
  },
  {
   "cell_type": "code",
   "execution_count": 22,
   "metadata": {},
   "outputs": [
    {
     "data": {
      "text/plain": [
       "193.14277510867439"
      ]
     },
     "execution_count": 22,
     "metadata": {},
     "output_type": "execute_result"
    }
   ],
   "source": [
    "dt_reged=DecisionTreeRegressor(criterion='mse', max_depth=4)\n",
    "\n",
    "dt_reged.fit(X_train,y_train)\n",
    "\n",
    "y_pred=dt_reged.predict(X_test)\n",
    "\n",
    "mean_squared_error(y_test,y_pred)"
   ]
  },
  {
   "cell_type": "code",
   "execution_count": null,
   "metadata": {},
   "outputs": [],
   "source": [
    "## to be continue"
   ]
  }
 ],
 "metadata": {
  "kernelspec": {
   "display_name": "Python 3",
   "language": "python",
   "name": "python3"
  },
  "language_info": {
   "codemirror_mode": {
    "name": "ipython",
    "version": 3
   },
   "file_extension": ".py",
   "mimetype": "text/x-python",
   "name": "python",
   "nbconvert_exporter": "python",
   "pygments_lexer": "ipython3",
   "version": "3.6.5"
  }
 },
 "nbformat": 4,
 "nbformat_minor": 2
}
